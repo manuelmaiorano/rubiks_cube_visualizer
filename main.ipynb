{
 "cells": [
  {
   "cell_type": "code",
   "execution_count": 1,
   "metadata": {},
   "outputs": [],
   "source": [
    "import numpy as np\n",
    "import os\n",
    "import time\n",
    "\n",
    "import meshcat\n",
    "import meshcat.geometry as g\n",
    "import meshcat.transformations as tf"
   ]
  },
  {
   "cell_type": "code",
   "execution_count": 2,
   "metadata": {},
   "outputs": [],
   "source": [
    "from dataclasses import dataclass"
   ]
  },
  {
   "cell_type": "code",
   "execution_count": 3,
   "metadata": {},
   "outputs": [],
   "source": [
    "import math"
   ]
  },
  {
   "cell_type": "code",
   "execution_count": 4,
   "metadata": {},
   "outputs": [
    {
     "name": "stdout",
     "output_type": "stream",
     "text": [
      "You can open the visualizer by visiting the following URL:\n",
      "http://127.0.0.1:7000/static/\n"
     ]
    }
   ],
   "source": [
    "vis = meshcat.Visualizer()\n"
   ]
  },
  {
   "cell_type": "code",
   "execution_count": 38,
   "metadata": {},
   "outputs": [],
   "source": [
    "def get_vertices(direction):\n",
    "    to_change = [i for i,_ in enumerate(direction) if direction[i] == 0]\n",
    "    vertices = []\n",
    "\n",
    "    for val1 in [-1, 1]:\n",
    "        for val2 in [-1, 1]:\n",
    "            vertex = list(direction)\n",
    "            vertex[to_change[0]] = val1\n",
    "            vertex[to_change[1]] = val2\n",
    "            vertices.append(vertex)\n",
    "\n",
    "\n",
    "\n",
    "    return vertices\n",
    "\n",
    "def get_cube_mesh(faces2color: dict, size):\n",
    "    \n",
    "    faces = []\n",
    "    colors = []\n",
    "    vertices_cube = []\n",
    "    face_index = 0\n",
    "    for direction, color in faces2color.items():\n",
    "        vertices_cube.extend(get_vertices(direction))\n",
    "        faces.append([face_index + i for i in [0,1,2] ])\n",
    "        faces.append([face_index + i for i in [3,2,1] ])\n",
    "        face_index += 4\n",
    "        colors.extend([color]*4)\n",
    "\n",
    "    return g.TriangularMeshGeometry(np.array(vertices_cube)*size, np.array(faces), np.array(colors))"
   ]
  },
  {
   "cell_type": "code",
   "execution_count": 39,
   "metadata": {},
   "outputs": [],
   "source": [
    "@dataclass\n",
    "class Block:\n",
    "    id: str\n",
    "    transform: np.ndarray\n"
   ]
  },
  {
   "cell_type": "code",
   "execution_count": 40,
   "metadata": {},
   "outputs": [],
   "source": [
    "def get_face_blocks(dimension, number, blocks, side):\n",
    "    face_blocks = []\n",
    "    for block in blocks:\n",
    "        if math.isclose(block.transform[dimension, -1], number * side, abs_tol=1e-15):\n",
    "            face_blocks.append(block)\n",
    "\n",
    "    return face_blocks"
   ]
  },
  {
   "cell_type": "code",
   "execution_count": 41,
   "metadata": {},
   "outputs": [],
   "source": [
    "def get_affine(rotation, translation):\n",
    "    affine = np.ones((4,4))\n",
    "    affine[0:3, 0:3] = rotation[0:3, 0:3]\n",
    "    affine[0:3, -1] = translation[0:3, -1]\n",
    "    return affine"
   ]
  },
  {
   "cell_type": "code",
   "execution_count": 42,
   "metadata": {},
   "outputs": [],
   "source": [
    "def rotate_face(dimension, number, blocks, duration_sec, side):\n",
    "    direction = np.zeros(3)\n",
    "    direction[dimension] = 1\n",
    "    X_WF = tf.translation_matrix(direction*side)\n",
    "    X_FW = np.linalg.inv(X_WF)\n",
    "\n",
    "    face_blocks = get_face_blocks(dimension, number, blocks, side)\n",
    "    ang_fin = math.pi/2\n",
    "    #frame_rate = 60\n",
    "    steps = 50\n",
    "    ts = np.linspace(0, duration_sec, steps)\n",
    "    vel_ang = ang_fin/duration_sec\n",
    "    for t in ts:\n",
    "        for block in face_blocks:\n",
    "            X_Fb = X_FW @ block.transform\n",
    "            X_F_NF = tf.rotation_matrix(vel_ang * duration_sec/steps, direction)\n",
    "            X_W_NF = X_WF @ X_F_NF\n",
    "            block.transform = X_W_NF @ X_Fb\n",
    "            \n",
    "        for block in face_blocks:\n",
    "            vis[f'cube/{block.id}'].set_transform(block.transform)\n",
    "        time.sleep(duration_sec/steps)\n"
   ]
  },
  {
   "cell_type": "code",
   "execution_count": 43,
   "metadata": {},
   "outputs": [],
   "source": [
    "red = [1, 0, 0]\n",
    "green = [0, 1, 0]\n",
    "blue = [0, 0, 1]\n",
    "yellow = [1, 1, 0]\n",
    "orange = [1, 0.5, 0]\n",
    "white = [1, 1, 1]\n",
    "black = [0, 0, 0]\n",
    "\n",
    "def get_cube(x_coord, y_coord, z_coord, N, side):\n",
    "    faces2color = {}\n",
    "    for index in [0, 1, 2]:\n",
    "        for dir in [1, -1]:\n",
    "            direction = [0, 0, 0]\n",
    "            direction[index] = dir\n",
    "            faces2color[tuple(direction)] = black\n",
    "    if x_coord == (N-1)/2:\n",
    "        faces2color[(1, 0, 0)] = red\n",
    "    if z_coord == (N-1)/2:\n",
    "        faces2color[(0, 0, 1)] = yellow\n",
    "    if y_coord == (N-1)/2:\n",
    "        faces2color[(0, 1, 0)] = green\n",
    "\n",
    "    if x_coord == -(N-1)/2:\n",
    "        faces2color[(-1, 0, 0)] = orange\n",
    "    if z_coord == -(N-1)/2:\n",
    "        faces2color[(0, 0, -1)] = white\n",
    "    if y_coord == -(N-1)/2:\n",
    "        faces2color[(0, -1, 0)] = blue\n",
    "\n",
    "    return get_cube_mesh(faces2color, side/2)\n",
    "    \n"
   ]
  },
  {
   "cell_type": "code",
   "execution_count": 44,
   "metadata": {},
   "outputs": [],
   "source": [
    "vis['cube'].delete()"
   ]
  },
  {
   "cell_type": "code",
   "execution_count": 45,
   "metadata": {},
   "outputs": [],
   "source": [
    "coords2id = {}\n",
    "blocks = []\n",
    "\n",
    "N = 7\n",
    "BLOCK_SIDE = 0.2\n",
    "\n",
    "vis['cube'].set_object(g.Box([BLOCK_SIDE]*3))\n",
    "vis['cube'].set_transform(tf.translation_matrix([0, 0, 0]))\n",
    "\n",
    "offset = np.array([1, 1, 1]) * 0.05\n",
    "\n",
    "if N%2 == 1:\n",
    "    left = int(-(N-1)/2)\n",
    "    right = int((N-1)/2 +1)\n",
    "    steps = [i for i in range(left, right)]\n",
    "for xi in steps:\n",
    "    for yi in steps:\n",
    "        for zi in steps:\n",
    "            id = 'block' + str(xi) + str(yi) + str(zi)\n",
    "            coords2id[(xi, yi, zi)] = id\n",
    "            vis['cube'][id].set_object(get_cube(xi, yi, zi, N, BLOCK_SIDE), g.MeshPhongMaterial(vertexColors=True))\n",
    "            transform = tf.translation_matrix(np.array([xi, yi, zi]) * BLOCK_SIDE)\n",
    "            blocks.append(Block(id, transform))\n",
    "            vis['cube'][id].set_transform(transform)"
   ]
  },
  {
   "cell_type": "code",
   "execution_count": 46,
   "metadata": {},
   "outputs": [],
   "source": [
    "def scramble(N, n_times, blocks, duration_sec, side):\n",
    "    for i in range(n_times):\n",
    "        side_number = np.random.randint(-(N-1)/2, (N-1)/2 +1)\n",
    "        dimension = np.random.randint(0, 3)\n",
    "        rotate_face(dimension, side_number, blocks, duration_sec, side)\n"
   ]
  },
  {
   "cell_type": "code",
   "execution_count": 51,
   "metadata": {},
   "outputs": [],
   "source": [
    "scramble(N, 10, blocks, 1, BLOCK_SIDE)"
   ]
  },
  {
   "cell_type": "code",
   "execution_count": 50,
   "metadata": {},
   "outputs": [],
   "source": [
    "for i in range(20):\n",
    "    vis['cube'].set_transform(tf.rotation_matrix(0.1*i, [0, 0, 1]))\n",
    "    time.sleep(0.1)"
   ]
  }
 ],
 "metadata": {
  "kernelspec": {
   "display_name": ".venv",
   "language": "python",
   "name": "python3"
  },
  "language_info": {
   "codemirror_mode": {
    "name": "ipython",
    "version": 3
   },
   "file_extension": ".py",
   "mimetype": "text/x-python",
   "name": "python",
   "nbconvert_exporter": "python",
   "pygments_lexer": "ipython3",
   "version": "3.9.4"
  },
  "orig_nbformat": 4,
  "vscode": {
   "interpreter": {
    "hash": "abe39db2ffc4aab2cd659efcecf129e7b43c0a5d2f1ff2a7e255cb4920635182"
   }
  }
 },
 "nbformat": 4,
 "nbformat_minor": 2
}
